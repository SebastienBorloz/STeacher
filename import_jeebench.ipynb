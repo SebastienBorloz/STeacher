{
 "cells": [
  {
   "cell_type": "code",
   "execution_count": 40,
   "id": "ffa91c78",
   "metadata": {},
   "outputs": [],
   "source": [
    "import json\n",
    "import random\n",
    "from prompt_parsing import read_file,parse_prompt\n",
    "from LLM_wrap import LLM\n",
    "from write_result import write_experience_report"
   ]
  },
  {
   "cell_type": "code",
   "execution_count": 26,
   "id": "e5cf86cf",
   "metadata": {},
   "outputs": [
    {
     "name": "stdout",
     "output_type": "stream",
     "text": [
      "98\n"
     ]
    }
   ],
   "source": [
    "with open('./input/jeebench/dataset.json', 'r') as file:\n",
    "    data = json.load(file)\n",
    "\n",
    "data = list(filter(lambda x: x[\"subject\"] == \"math\", data))\n",
    "data = list(filter(lambda x: x[\"type\"] != \"MCQ\", data))\n",
    "data = list(filter(lambda x: x[\"type\"] != \"MCQ(multiple)\", data))\n",
    "print(len(data))"
   ]
  },
  {
   "cell_type": "code",
   "execution_count": 28,
   "id": "f5e0a0b5",
   "metadata": {},
   "outputs": [
    {
     "data": {
      "text/plain": [
       "['Integer', 'Numeric']"
      ]
     },
     "execution_count": 28,
     "metadata": {},
     "output_type": "execute_result"
    }
   ],
   "source": [
    "type_list = []\n",
    "for i in data:\n",
    "\tif i[\"type\"] not in type_list:\n",
    "\t\ttype_list.append(i[\"type\"])\n",
    "type_list"
   ]
  },
  {
   "cell_type": "code",
   "execution_count": 43,
   "id": "3f3240ea",
   "metadata": {},
   "outputs": [],
   "source": [
    "random_prob = data[random.randint(0,len(data)-1)]"
   ]
  },
  {
   "cell_type": "code",
   "execution_count": 44,
   "id": "55a24d83",
   "metadata": {},
   "outputs": [
    {
     "name": "stdout",
     "output_type": "stream",
     "text": [
      "Two fair dice, each with faces numbered 1,2,3,4,5 and 6, are rolled together and the sum of the numbers on the faces is observed. This process is repeated till the sum is either a prime number or a perfect square. Suppose the sum turns out to be a perfect square before it turns out to be a prime number. If $p$ is the probability that this perfect square is an odd number, then what is the value of $14 p$?\n"
     ]
    }
   ],
   "source": [
    "print(random_prob[\"question\"])"
   ]
  },
  {
   "cell_type": "code",
   "execution_count": 45,
   "id": "b9997b98",
   "metadata": {},
   "outputs": [
    {
     "data": {
      "text/plain": [
       "{'description': 'JEE Adv 2020 Paper 2',\n",
       " 'index': 51,\n",
       " 'subject': 'math',\n",
       " 'type': 'Numeric',\n",
       " 'question': 'Two fair dice, each with faces numbered 1,2,3,4,5 and 6, are rolled together and the sum of the numbers on the faces is observed. This process is repeated till the sum is either a prime number or a perfect square. Suppose the sum turns out to be a perfect square before it turns out to be a prime number. If $p$ is the probability that this perfect square is an odd number, then what is the value of $14 p$?',\n",
       " 'gold': '8'}"
      ]
     },
     "execution_count": 45,
     "metadata": {},
     "output_type": "execute_result"
    }
   ],
   "source": [
    "random_prob"
   ]
  },
  {
   "cell_type": "code",
   "execution_count": 46,
   "id": "1a6ab627",
   "metadata": {},
   "outputs": [
    {
     "name": "stdout",
     "output_type": "stream",
     "text": [
      "<_io.TextIOWrapper name='./prompts/CoT_resolution.md' mode='r' encoding='utf-8'> read successfully!\n",
      "# Task and style\n",
      "You are a highly qualified math teacher. You are the best at resolving exercises and you do it competitively. You are always very concise and to the point, it is more efficient.\n",
      "\n",
      "You are in the middle of a math competition and will be given a math exercise.\n",
      "\n",
      "The judges expect from you two things:\n",
      "1. Your reasoning step by step to resolve the exercise and the calculation that goes with it.\n",
      "\n",
      "2. The final solution of the exercise at the very end of your answer. The last line must **only** contain the answer, so no \"answer:\" or \"solution=\" or your response will be considered wrong and you will lose your points.\n",
      "\n",
      "# Exercise\n",
      "Two fair dice, each with faces numbered 1,2,3,4,5 and 6, are rolled together and the sum of the numbers on the faces is observed. This process is repeated till the sum is either a prime number or a perfect square. Suppose the sum turns out to be a perfect square before it turns out to be a prime number. If $p$ is the probability that this perfect square is an odd number, then what is the value of $14 p$?\n",
      "\n",
      "# Your solution\n",
      "\n"
     ]
    }
   ],
   "source": [
    "prompt = parse_prompt(\"./prompts/CoT_resolution.md\", exercise = random_prob[\"question\"])\n",
    "print(prompt)"
   ]
  },
  {
   "cell_type": "code",
   "execution_count": 47,
   "id": "3c797950",
   "metadata": {},
   "outputs": [],
   "source": [
    "model = \"gpt-4.1-mini\"\n",
    "chat = LLM(model)"
   ]
  },
  {
   "cell_type": "code",
   "execution_count": 48,
   "id": "6b845145",
   "metadata": {},
   "outputs": [
    {
     "name": "stdout",
     "output_type": "stream",
     "text": [
      "response:\n",
      "Step 1: Identify possible sums of two dice and classify them as prime or perfect square.\n",
      "\n",
      "Possible sums: 2 to 12.\n",
      "\n",
      "Prime sums: 2, 3, 5, 7, 11  \n",
      "Perfect squares: 4, 9\n",
      "\n",
      "Step 2: Calculate the probability of each sum.\n",
      "\n",
      "Number of outcomes when rolling two dice = 6 × 6 = 36.\n",
      "\n",
      "Sum probabilities:  \n",
      "- 2: 1/36  \n",
      "- 3: 2/36  \n",
      "- 4: 3/36  \n",
      "- 5: 4/36  \n",
      "- 6: 5/36  \n",
      "- 7: 6/36  \n",
      "- 8: 5/36  \n",
      "- 9: 4/36  \n",
      "- 10: 3/36  \n",
      "- 11: 2/36  \n",
      "- 12: 1/36\n",
      "\n",
      "Step 3: Define events:\n",
      "\n",
      "- \\(P\\) = sum is prime: \\(P = \\{2,3,5,7,11\\}\\)  \n",
      "- \\(S\\) = sum is perfect square: \\(S = \\{4,9\\}\\)\n",
      "\n",
      "Calculate \\(P(P)\\) and \\(P(S)\\):\n",
      "\n",
      "\\[\n",
      "P(P) = \\frac{1+2+4+6+2}{36} = \\frac{15}{36} = \\frac{5}{12}\n",
      "\\]\n",
      "\n",
      "\\[\n",
      "P(S) = \\frac{3+4}{36} = \\frac{7}{36}\n",
      "\\]\n",
      "\n",
      "Step 4: The process repeats until the sum is either prime or perfect square. The first such sum is either prime or perfect square.\n",
      "\n",
      "The probability that the first such sum is a perfect square is:\n",
      "\n",
      "\\[\n",
      "\\frac{P(S)}{P(P) + P(S)} = \\frac{\\frac{7}{36}}{\\frac{15}{36} + \\frac{7}{36}} = \\frac{7/36}{22/36} = \\frac{7}{22}\n",
      "\\]\n",
      "\n",
      "Step 5: We want the probability \\(p\\) that the perfect square is odd, given that the perfect square appears first.\n",
      "\n",
      "Perfect squares are 4 (even) and 9 (odd).\n",
      "\n",
      "Calculate the probability that the perfect square is 9 given the perfect square occurs:\n",
      "\n",
      "\\[\n",
      "p = \\frac{P(9)}{P(4) + P(9)} = \\frac{4/36}{3/36 + 4/36} = \\frac{4/36}{7/36} = \\frac{4}{7}\n",
      "\\]\n",
      "\n",
      "Step 6: Calculate \\(14p\\):\n",
      "\n",
      "\\[\n",
      "14p = 14 \\times \\frac{4}{7} = 2 \\times 4 = 8\n",
      "\\]\n",
      "\n",
      "8\n",
      "yay\n"
     ]
    }
   ],
   "source": [
    "resp, use = chat.ask_LLM_txt(prompt, temperature=0)"
   ]
  },
  {
   "cell_type": "code",
   "execution_count": 49,
   "id": "19a282d2",
   "metadata": {},
   "outputs": [
    {
     "data": {
      "text/plain": [
       "ResponseUsage(input_tokens=251, input_tokens_details=InputTokensDetails(cached_tokens=0), output_tokens=581, output_tokens_details=OutputTokensDetails(reasoning_tokens=0), total_tokens=832)"
      ]
     },
     "execution_count": 49,
     "metadata": {},
     "output_type": "execute_result"
    }
   ],
   "source": [
    "use"
   ]
  },
  {
   "cell_type": "code",
   "execution_count": 50,
   "id": "5193b396",
   "metadata": {},
   "outputs": [
    {
     "name": "stdout",
     "output_type": "stream",
     "text": [
      "Directory './resultats/test resolution jeebench 2' created successfully.\n",
      "tout bon\n"
     ]
    }
   ],
   "source": [
    "write_experience_report(\"test resolution jeebench 2\", model, prompt, resp)"
   ]
  }
 ],
 "metadata": {
  "kernelspec": {
   "display_name": ".venv",
   "language": "python",
   "name": "python3"
  },
  "language_info": {
   "codemirror_mode": {
    "name": "ipython",
    "version": 3
   },
   "file_extension": ".py",
   "mimetype": "text/x-python",
   "name": "python",
   "nbconvert_exporter": "python",
   "pygments_lexer": "ipython3",
   "version": "3.10.8"
  }
 },
 "nbformat": 4,
 "nbformat_minor": 5
}
