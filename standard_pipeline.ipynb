{
 "cells": [
  {
   "cell_type": "code",
   "execution_count": 20,
   "id": "0b258e92",
   "metadata": {},
   "outputs": [],
   "source": [
    "from LLM_wrap import LLM, img_to_b64\n",
    "from prompt_parsing import read_file, parse_prompt"
   ]
  },
  {
   "cell_type": "code",
   "execution_count": 21,
   "id": "e4bd0bcf",
   "metadata": {},
   "outputs": [],
   "source": [
    "gpt = LLM(\"gpt-4.1-mini\")"
   ]
  },
  {
   "cell_type": "code",
   "execution_count": null,
   "id": "72c2ad58",
   "metadata": {},
   "outputs": [],
   "source": [
    "img_path = \"./page-4.png\"\n",
    "b64_image = img_to_b64(img_path)\n",
    "\n",
    "prompt = read_file(\"./prompts/prompt_step_by_step_corriged.md\")\n",
    "print(prompt)"
   ]
  },
  {
   "cell_type": "code",
   "execution_count": 23,
   "id": "e184e03b",
   "metadata": {},
   "outputs": [
    {
     "name": "stdout",
     "output_type": "stream",
     "text": [
      "response:\n",
      "**student's logic:**\n",
      "\n",
      "(a)  \n",
      "- Il calcule la moyenne de x (notée \\(\\overline{x}\\)) comme étant 80.  \n",
      "- Il calcule la moyenne de y (notée \\(\\overline{y}\\)) comme étant 58,6.  \n",
      "- Il calcule l'écart-type de x en utilisant \\(\\sqrt{250} \\approx 15,811\\).  \n",
      "- Il calcule l'écart-type de y en utilisant \\(\\sqrt{15,8} \\approx 3,975\\).  \n",
      "- Il calcule la covariance selon la formule avec la somme des produits des écarts : \\(\\mathrm{Cov}(x,y) = \\frac{1}{4} \\sum (x_i - \\overline{x})(y_i - \\overline{y}) = -62,5\\).  \n",
      "- Il calcule le coefficient de corrélation en divisant la covariance par le produit des écarts-types (62,85), mais obtient 0,9944.\n",
      "\n",
      "(b)  \n",
      "- Il conclut à l’existence d’une relation linéaire car la corrélation est très proche de \\(-1\\).\n",
      "\n",
      "(c)  \n",
      "- Il construit la matrice \\(A\\) avec les valeurs de x et un vecteur colonne de 1 pour l'ordonnée à l'origine.  \n",
      "- Il construit le vecteur \\(B\\) avec les valeurs y.  \n",
      "- Il calcule \\(A^T A\\) (matrice transposée fois matrice \\(A\\)).  \n",
      "- Il calcule l'inverse \\((A^T A)^{-1}\\).  \n",
      "- Il calcule \\(A^T B\\).  \n",
      "- Il multiplie \\((A^T A)^{-1}\\) par \\(A^T B\\) pour obtenir le vecteur \\(X = (m, q)^T\\).  \n",
      "- Il conclut que la droite de régression est \\(y = -0,25 x + 78,6\\).\n",
      "\n",
      "---\n",
      "\n",
      "**error list:**\n",
      "\n",
      "[CAL] : Le calcul de la corrélation est erroné. La covariance est négative et la corrélation doit être proche de \\(-0,9944\\), donc le signe est incorrect (il écrit \\(0,9944\\) positif).  \n",
      "[CAL] : Le dénominateur de la corrélation est mal calculé ou mal utilisé. Pour la corrélation, on divise par \\(s_x s_y\\), soit \\(15,811 \\times 3,975 = 62,85\\), mais la valeur donnée semble fausse pour \\(s_y\\) (car \\(\\sqrt{15,8} \\approx 3,975\\) est correct, mais ce n’est pas cohérent avec la covariance donnée).  \n",
      "[REAS] : Dans la conclusion (b), il affirme que la corrélation est proche de \\(-1\\), mais dans sa résolution il a mis un résultat positif \\(0,9944\\). Cela montre une incohérence de raisonnement par rapport au signe.  \n",
      "[CAL] : L'inversion de la matrice \\((A^T A)^{-1}\\) est correcte, mais la multiplication finale donne \\(\\begin{pmatrix} -1250 \\\\ -393000 \\end{pmatrix}\\), qui divisé par 5000 donne \\(\\begin{pmatrix} -0,25 \\\\ -78,6 \\end{pmatrix}\\), or l’étudiant met \\(q=78,6\\) au lieu de \\(-78,6\\), erreur de signe.  \n",
      "[REAS] : L’interprétation finale de la constante \\(q\\) dans la droite de régression est erronée (le signe doit être négatif).\n",
      "\n",
      "En résumé, les principales erreurs sont dans la gestion des signes pour la corrélation et pour l'ordonnée à l'origine de la droite de régression, et une légère confusion dans le calcul des valeurs statistiques.\n",
      "yay\n"
     ]
    }
   ],
   "source": [
    "resp, use = gpt.ask_LLM_txt(prompt)"
   ]
  },
  {
   "cell_type": "code",
   "execution_count": null,
   "id": "33f4a44f",
   "metadata": {},
   "outputs": [],
   "source": [
    "resp, use = gpt.ask_LLM_txt_and_img(prompt, b64_image, temperature=0)"
   ]
  },
  {
   "cell_type": "code",
   "execution_count": 18,
   "id": "767c8d8e",
   "metadata": {},
   "outputs": [
    {
     "name": "stdout",
     "output_type": "stream",
     "text": [
      "use: ResponseUsage(input_tokens=1400, input_tokens_details=InputTokensDetails(cached_tokens=0), output_tokens=893, output_tokens_details=OutputTokensDetails(reasoning_tokens=0), total_tokens=2293)\n"
     ]
    }
   ],
   "source": [
    "print(f\"use: {use}\")"
   ]
  }
 ],
 "metadata": {
  "kernelspec": {
   "display_name": ".venv",
   "language": "python",
   "name": "python3"
  },
  "language_info": {
   "codemirror_mode": {
    "name": "ipython",
    "version": 3
   },
   "file_extension": ".py",
   "mimetype": "text/x-python",
   "name": "python",
   "nbconvert_exporter": "python",
   "pygments_lexer": "ipython3",
   "version": "3.10.13"
  }
 },
 "nbformat": 4,
 "nbformat_minor": 5
}
