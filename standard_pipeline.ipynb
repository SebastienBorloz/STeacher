{
 "cells": [
  {
   "cell_type": "code",
   "execution_count": null,
   "id": "0b258e92",
   "metadata": {},
   "outputs": [],
   "source": [
    "from LLM_wrap import LLM, img_to_b64\n",
    "from utilities import read_file, parse_prompt\n",
    "from write_result import write_experience_report"
   ]
  },
  {
   "cell_type": "code",
   "execution_count": null,
   "id": "e4bd0bcf",
   "metadata": {},
   "outputs": [],
   "source": [
    "model = \"gpt-4.1-mini\"\n",
    "gpt = LLM(model)"
   ]
  },
  {
   "cell_type": "code",
   "execution_count": 29,
   "id": "72c2ad58",
   "metadata": {},
   "outputs": [
    {
     "name": "stdout",
     "output_type": "stream",
     "text": [
      "# Task and style\n",
      "You are a highly qualified math teacher. You are the best at resolving exercises and you do it competitively. You are always very concise and to the point, it is more efficient.\n",
      "\n",
      "You are in the middle of a math competition and will be given a math exercise.\n",
      "\n",
      "The judges expect from you two things:\n",
      "1. Your reasoning step by step to resolve the exercise and the calculation that goes with it.\n",
      "\n",
      "2. The final solution of the exercise at the very end of your answer. The last line must **only** contain the answer, so no \"answer:\" or \"solution=\" or your response will be considered wrong and you will lose your points.\n",
      "\n",
      "# Exercise\n",
      "{exercise}\n",
      "\n",
      "# Your solution\n",
      "\n"
     ]
    }
   ],
   "source": [
    "img_path = \"./page-4.png\"\n",
    "b64_image = img_to_b64(img_path)\n",
    "\n",
    "prompt = read_file(\"./prompts/prompt_step_by_step_corriged.md\")\n",
    "print(prompt)"
   ]
  },
  {
   "cell_type": "code",
   "execution_count": 23,
   "id": "90c80447",
   "metadata": {},
   "outputs": [],
   "source": [
    "error_types = [\n",
    "\"Shuffle reasoning steps: The reasoning steps are shuffled to introduce ambiguity in the thought process.\",\n",
    "\"Delete reasoning steps: One reasoning step is deleted in solutions that have two or more steps.\",\n",
    "\"Shuffle numerical values: Numerical values are shuffled among themselves.\",\n",
    "\"Replace numerical values: Numerical values are replaced with random numbers ranging from 0 to 100.\",\n",
    "\"Shuffle operations: We randomly swap operators with other operators.\",\n",
    "\"Insert random reasoning steps: A random reasoning step is added at a random position.\",\n",
    "]\n",
    "ty = 4"
   ]
  },
  {
   "cell_type": "code",
   "execution_count": 24,
   "id": "912bb436",
   "metadata": {},
   "outputs": [
    {
     "name": "stdout",
     "output_type": "stream",
     "text": [
      "# Task and style\n",
      "You are a machine used in a lab that researches on LLMs applications in correcting math exercises. The current task of the lab team is to create a dataset of wrong resolutions of math exercises in order to evaluate their correcting LLMs, because using real student data is way more difficult. This is where you appear: They conceived you to apply mistakes to an input reasoning.\n",
      "\n",
      "The error they want you to insert this time is:\n",
      "Shuffle operations: We randomly swap operators with other operators.\n",
      "\n",
      "You will be given an exercise resolution in text, with parts of latex. You are programmed to give back the reasoning with a single error in it, with the error corresponding to the description that was just given to you.\n",
      "\n",
      "# Resolution\n",
      "Step 1: Identify possible sums of two dice and classify them as prime or perfect square.\n",
      "\n",
      "Possible sums: 2 to 12.\n",
      "\n",
      "Prime sums: 2, 3, 5, 7, 11  \n",
      "Perfect squares: 4, 9\n",
      "\n",
      "Step 2: Calculate the probability of each sum.\n",
      "\n",
      "Number of outcomes when rolling two dice = 6 × 6 = 36.\n",
      "\n",
      "Sum probabilities:  \n",
      "- 2: 1/36  \n",
      "- 3: 2/36  \n",
      "- 4: 3/36  \n",
      "- 5: 4/36  \n",
      "- 6: 5/36  \n",
      "- 7: 6/36  \n",
      "- 8: 5/36  \n",
      "- 9: 4/36  \n",
      "- 10: 3/36  \n",
      "- 11: 2/36  \n",
      "- 12: 1/36\n",
      "\n",
      "Step 3: Define events:\n",
      "\n",
      "- \\(P\\) = sum is prime: \\(P = \\{2,3,5,7,11\\}\\)  \n",
      "- \\(S\\) = sum is perfect square: \\(S = \\{4,9\\}\\)\n",
      "\n",
      "Calculate \\(P(P)\\) and \\(P(S)\\):\n",
      "\n",
      "\\[\n",
      "P(P) = \\frac{1+2+4+6+2}{36} = \\frac{15}{36} = \\frac{5}{12}\n",
      "\\]\n",
      "\n",
      "\\[\n",
      "P(S) = \\frac{3+4}{36} = \\frac{7}{36}\n",
      "\\]\n",
      "\n",
      "Step 4: The process repeats until the sum is either prime or perfect square. The first such sum is either prime or perfect square.\n",
      "\n",
      "The probability that the first such sum is a perfect square is:\n",
      "\n",
      "\\[\n",
      "\\frac{P(S)}{P(P) + P(S)} = \\frac{\\frac{7}{36}}{\\frac{15}{36} + \\frac{7}{36}} = \\frac{7/36}{22/36} = \\frac{7}{22}\n",
      "\\]\n",
      "\n",
      "Step 5: We want the probability \\(p\\) that the perfect square is odd, given that the perfect square appears first.\n",
      "\n",
      "Perfect squares are 4 (even) and 9 (odd).\n",
      "\n",
      "Calculate the probability that the perfect square is 9 given the perfect square occurs:\n",
      "\n",
      "\\[\n",
      "p = \\frac{P(9)}{P(4) + P(9)} = \\frac{4/36}{3/36 + 4/36} = \\frac{4/36}{7/36} = \\frac{4}{7}\n",
      "\\]\n",
      "\n",
      "Step 6: Calculate \\(14p\\):\n",
      "\n",
      "\\[\n",
      "14p = 14 \\times \\frac{4}{7} = 2 \\times 4 = 8\n",
      "\\]\n",
      "\n",
      "8\n",
      "\n",
      "# Reasoning with mistake\n",
      "\n"
     ]
    }
   ],
   "source": [
    "prompt = read_file(\"./prompts/adding_errors_v2.md\")\n",
    "reasoning = read_file(\"./resultats/test resolution jeebench 2/output.txt\")\n",
    "prompt = parse_prompt(txt=prompt,resolution=reasoning,error=error_types[ty])\n",
    "print(prompt)"
   ]
  },
  {
   "cell_type": "code",
   "execution_count": 25,
   "id": "e184e03b",
   "metadata": {},
   "outputs": [
    {
     "name": "stdout",
     "output_type": "stream",
     "text": [
      "response:\n",
      "Step 1: Identify possible sums of two dice and classify them as prime or perfect square.\n",
      "\n",
      "Possible sums: 2 to 12.\n",
      "\n",
      "Prime sums: 2, 3, 5, 7, 11  \n",
      "Perfect squares: 4, 9\n",
      "\n",
      "Step 2: Calculate the probability of each sum.\n",
      "\n",
      "Number of outcomes when rolling two dice = 6 × 6 = 36.\n",
      "\n",
      "Sum probabilities:  \n",
      "- 2: 1/36  \n",
      "- 3: 2/36  \n",
      "- 4: 3/36  \n",
      "- 5: 4/36  \n",
      "- 6: 5/36  \n",
      "- 7: 6/36  \n",
      "- 8: 5/36  \n",
      "- 9: 4/36  \n",
      "- 10: 3/36  \n",
      "- 11: 2/36  \n",
      "- 12: 1/36\n",
      "\n",
      "Step 3: Define events:\n",
      "\n",
      "- \\(P\\) = sum is prime: \\(P = \\{2,3,5,7,11\\}\\)  \n",
      "- \\(S\\) = sum is perfect square: \\(S = \\{4,9\\}\\)\n",
      "\n",
      "Calculate \\(P(P)\\) and \\(P(S)\\):\n",
      "\n",
      "\\[\n",
      "P(P) = \\frac{1+2+4+6+2}{36} = \\frac{15}{36} = \\frac{5}{12}\n",
      "\\]\n",
      "\n",
      "\\[\n",
      "P(S) = \\frac{3-4}{36} = \\frac{-1}{36}\n",
      "\\]\n",
      "\n",
      "Step 4: The process repeats until the sum is either prime or perfect square. The first such sum is either prime or perfect square.\n",
      "\n",
      "The probability that the first such sum is a perfect square is:\n",
      "\n",
      "\\[\n",
      "\\frac{P(S)}{P(P) + P(S)} = \\frac{\\frac{-1}{36}}{\\frac{15}{36} + \\frac{-1}{36}} = \\frac{-1/36}{14/36} = \\frac{-1}{14}\n",
      "\\]\n",
      "\n",
      "Step 5: We want the probability \\(p\\) that the perfect square is odd, given that the perfect square appears first.\n",
      "\n",
      "Perfect squares are 4 (even) and 9 (odd).\n",
      "\n",
      "Calculate the probability that the perfect square is 9 given the perfect square occurs:\n",
      "\n",
      "\\[\n",
      "p = \\frac{P(9)}{P(4) + P(9)} = \\frac{4/36}{3/36 + 4/36} = \\frac{4/36}{7/36} = \\frac{4}{7}\n",
      "\\]\n",
      "\n",
      "Step 6: Calculate \\(14p\\):\n",
      "\n",
      "\\[\n",
      "14p = 14 \\times \\frac{4}{7} = 2 \\times 4 = 8\n",
      "\\]\n",
      "\n",
      "8\n",
      "yay\n"
     ]
    }
   ],
   "source": [
    "resp, use = gpt.ask_LLM_txt(prompt)"
   ]
  },
  {
   "cell_type": "code",
   "execution_count": null,
   "id": "33f4a44f",
   "metadata": {},
   "outputs": [],
   "source": [
    "resp, use = gpt.ask_LLM_txt_and_img(prompt, b64_image, temperature=0)"
   ]
  },
  {
   "cell_type": "code",
   "execution_count": 26,
   "id": "767c8d8e",
   "metadata": {},
   "outputs": [
    {
     "name": "stdout",
     "output_type": "stream",
     "text": [
      "use: ResponseUsage(input_tokens=743, input_tokens_details=InputTokensDetails(cached_tokens=0), output_tokens=581, output_tokens_details=OutputTokensDetails(reasoning_tokens=0), total_tokens=1324)\n"
     ]
    }
   ],
   "source": [
    "print(f\"use: {use}\")"
   ]
  },
  {
   "cell_type": "code",
   "execution_count": 27,
   "id": "5ad820e4",
   "metadata": {},
   "outputs": [
    {
     "name": "stdout",
     "output_type": "stream",
     "text": [
      "Directory './resultats/test error insertion 3' created successfully.\n",
      "tout bon le rapport\n"
     ]
    }
   ],
   "source": [
    "write_experience_report(\"test error insertion 3\", model, prompt, resp)"
   ]
  }
 ],
 "metadata": {
  "kernelspec": {
   "display_name": ".venv",
   "language": "python",
   "name": "python3"
  },
  "language_info": {
   "codemirror_mode": {
    "name": "ipython",
    "version": 3
   },
   "file_extension": ".py",
   "mimetype": "text/x-python",
   "name": "python",
   "nbconvert_exporter": "python",
   "pygments_lexer": "ipython3",
   "version": "3.10.8"
  }
 },
 "nbformat": 4,
 "nbformat_minor": 5
}
