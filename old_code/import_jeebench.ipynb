{
 "cells": [
  {
   "cell_type": "code",
   "execution_count": null,
   "id": "ffa91c78",
   "metadata": {},
   "outputs": [],
   "source": [
    "import json\n",
    "import random\n",
    "from utilities import read_file,parse_prompt\n",
    "from LLM_wrap import LLM\n",
    "from write_result import write_experience_report"
   ]
  },
  {
   "cell_type": "code",
   "execution_count": 51,
   "id": "e5cf86cf",
   "metadata": {},
   "outputs": [
    {
     "name": "stdout",
     "output_type": "stream",
     "text": [
      "98\n"
     ]
    }
   ],
   "source": [
    "with open('./input/jeebench/dataset.json', 'r') as file:\n",
    "    data = json.load(file)\n",
    "\n",
    "data = list(filter(lambda x: x[\"subject\"] == \"math\", data))\n",
    "data = list(filter(lambda x: x[\"type\"] != \"MCQ\", data))\n",
    "data = list(filter(lambda x: x[\"type\"] != \"MCQ(multiple)\", data))\n",
    "print(len(data))"
   ]
  },
  {
   "cell_type": "code",
   "execution_count": 21,
   "id": "f5e0a0b5",
   "metadata": {},
   "outputs": [
    {
     "data": {
      "text/plain": [
       "['Integer', 'Numeric']"
      ]
     },
     "execution_count": 21,
     "metadata": {},
     "output_type": "execute_result"
    }
   ],
   "source": [
    "type_list = []\n",
    "for i in data:\n",
    "\tif i[\"type\"] not in type_list:\n",
    "\t\ttype_list.append(i[\"type\"])\n",
    "type_list"
   ]
  },
  {
   "cell_type": "code",
   "execution_count": 55,
   "id": "3f3240ea",
   "metadata": {},
   "outputs": [],
   "source": [
    "random_prob = data[random.randint(0,len(data)-1)]"
   ]
  },
  {
   "cell_type": "code",
   "execution_count": 56,
   "id": "55a24d83",
   "metadata": {},
   "outputs": [
    {
     "name": "stdout",
     "output_type": "stream",
     "text": [
      "What is the total number of distinct $x \\in[0,1]$ for which $\\int_{0}^{x} \\frac{t^{2}}{1+t^{4}} d t=2 x-1$?\n"
     ]
    }
   ],
   "source": [
    "print(random_prob[\"question\"])"
   ]
  },
  {
   "cell_type": "code",
   "execution_count": 40,
   "id": "b9997b98",
   "metadata": {},
   "outputs": [
    {
     "data": {
      "text/plain": [
       "{'description': 'JEE Adv 2017 Paper 1',\n",
       " 'index': 44,\n",
       " 'subject': 'math',\n",
       " 'type': 'Integer',\n",
       " 'question': 'For how many values of $p$, the circle $x^{2}+y^{2}+2 x+4 y-p=0$ and the coordinate axes have exactly three common points?',\n",
       " 'gold': '2'}"
      ]
     },
     "execution_count": 40,
     "metadata": {},
     "output_type": "execute_result"
    }
   ],
   "source": [
    "random_prob"
   ]
  },
  {
   "cell_type": "code",
   "execution_count": 47,
   "id": "1a6ab627",
   "metadata": {},
   "outputs": [
    {
     "name": "stdout",
     "output_type": "stream",
     "text": [
      "<_io.TextIOWrapper name='./prompts/CoT_resolution.md' mode='r' encoding='utf-8'> read successfully!\n",
      "# Task and style\n",
      "You are a highly qualified math teacher. You are the best at resolving exercises and you do it competitively. You are always very concise and to the point, it is more efficient.\n",
      "\n",
      "You are in the middle of a math competition and will be given a math exercise.\n",
      "\n",
      "The judges expect from you two things:\n",
      "1. Your reasoning step by step to resolve the exercise and the calculation that goes with it.\n",
      "\n",
      "2. The final solution of the exercise at the very end of your answer. The last line must **only** contain the answer, so no \"answer:\" or \"solution=\" or your response will be considered wrong and you will lose your points.\n",
      "\n",
      "# Exercise\n",
      "For how many values of $p$, the circle $x^{2}+y^{2}+2 x+4 y-p=0$ and the coordinate axes have exactly three common points?\n",
      "\n",
      "# Your solution\n",
      "\n"
     ]
    }
   ],
   "source": [
    "prompt = parse_prompt(\"./prompts/CoT_resolution.md\", exercise = random_prob[\"question\"])\n",
    "print(prompt)"
   ]
  },
  {
   "cell_type": "code",
   "execution_count": 46,
   "id": "3c797950",
   "metadata": {},
   "outputs": [],
   "source": [
    "model = \"gpt-4.1\"\n",
    "chat = LLM(model)"
   ]
  },
  {
   "cell_type": "code",
   "execution_count": 48,
   "id": "6b845145",
   "metadata": {},
   "outputs": [
    {
     "name": "stdout",
     "output_type": "stream",
     "text": [
      "response:\n",
      "Step 1: Find intersection points with axes.\n",
      "\n",
      "- With \\( x \\)-axis (\\( y=0 \\)):\n",
      "  \\[\n",
      "  x^2 + 2x - p = 0\n",
      "  \\]\n",
      "  Discriminant: \\( D_1 = 4 + 4p \\)\n",
      "  Real solutions if \\( D_1 \\geq 0 \\implies p \\geq -1 \\).\n",
      "\n",
      "- With \\( y \\)-axis (\\( x=0 \\)):\n",
      "  \\[\n",
      "  y^2 + 4y - p = 0\n",
      "  \\]\n",
      "  Discriminant: \\( D_2 = 16 + 4p \\)\n",
      "  Real solutions if \\( D_2 \\geq 0 \\implies p \\geq -4 \\).\n",
      "\n",
      "Step 2: The circle and axes have exactly three common points.\n",
      "\n",
      "This happens if:\n",
      "- One axis is tangent (1 intersection), the other cuts (2 intersections).\n",
      "\n",
      "Case 1: Tangent to \\( x \\)-axis, cuts \\( y \\)-axis.\n",
      "- \\( D_1 = 0 \\implies 4 + 4p = 0 \\implies p = -1 \\)\n",
      "- For \\( p = -1 \\), \\( D_2 = 16 + 4(-1) = 12 > 0 \\) (two points on \\( y \\)-axis).\n",
      "\n",
      "Case 2: Tangent to \\( y \\)-axis, cuts \\( x \\)-axis.\n",
      "- \\( D_2 = 0 \\implies 16 + 4p = 0 \\implies p = -4 \\)\n",
      "- For \\( p = -4 \\), \\( D_1 = 4 + 4(-4) = -12 < 0 \\) (no real intersection with \\( x \\)-axis).\n",
      "\n",
      "So only \\( p = -1 \\) works.\n",
      "\n",
      "Step 3: Check for any other possibilities.\n",
      "\n",
      "- Both discriminants positive: 4 points.\n",
      "- Both zero: 2 points.\n",
      "- Both negative: 0 points.\n",
      "\n",
      "So, only \\( p = -1 \\) gives exactly 3 points.\n",
      "\n",
      "1\n",
      "yay\n"
     ]
    }
   ],
   "source": [
    "resp, use = chat.ask_LLM_txt(prompt, temperature=0)"
   ]
  },
  {
   "cell_type": "code",
   "execution_count": 44,
   "id": "19a282d2",
   "metadata": {},
   "outputs": [
    {
     "data": {
      "text/plain": [
       "ResponseUsage(input_tokens=188, input_tokens_details=InputTokensDetails(cached_tokens=0), output_tokens=1990, output_tokens_details=OutputTokensDetails(reasoning_tokens=0), total_tokens=2178)"
      ]
     },
     "execution_count": 44,
     "metadata": {},
     "output_type": "execute_result"
    }
   ],
   "source": [
    "use"
   ]
  },
  {
   "cell_type": "code",
   "execution_count": 49,
   "id": "5193b396",
   "metadata": {},
   "outputs": [
    {
     "name": "stdout",
     "output_type": "stream",
     "text": [
      "Directory './resultats/test resolution 4.1' created successfully.\n",
      "tout bon\n"
     ]
    }
   ],
   "source": [
    "write_experience_report(\"test resolution 4.1\", model, prompt, resp)"
   ]
  }
 ],
 "metadata": {
  "kernelspec": {
   "display_name": ".venv",
   "language": "python",
   "name": "python3"
  },
  "language_info": {
   "codemirror_mode": {
    "name": "ipython",
    "version": 3
   },
   "file_extension": ".py",
   "mimetype": "text/x-python",
   "name": "python",
   "nbconvert_exporter": "python",
   "pygments_lexer": "ipython3",
   "version": "3.10.8"
  }
 },
 "nbformat": 4,
 "nbformat_minor": 5
}
